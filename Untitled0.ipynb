{
  "nbformat": 4,
  "nbformat_minor": 0,
  "metadata": {
    "colab": {
      "provenance": [],
      "gpuType": "T4",
      "authorship_tag": "ABX9TyPd6w+vIbHKAOZyb9Po0a5c",
      "include_colab_link": true
    },
    "kernelspec": {
      "name": "python3",
      "display_name": "Python 3"
    },
    "language_info": {
      "name": "python"
    },
    "accelerator": "GPU"
  },
  "cells": [
    {
      "cell_type": "markdown",
      "metadata": {
        "id": "view-in-github",
        "colab_type": "text"
      },
      "source": [
        "<a href=\"https://colab.research.google.com/github/sampath0294/GAN/blob/main/Untitled0.ipynb\" target=\"_parent\"><img src=\"https://colab.research.google.com/assets/colab-badge.svg\" alt=\"Open In Colab\"/></a>"
      ]
    },
    {
      "cell_type": "code",
      "execution_count": 4,
      "metadata": {
        "id": "897lSzpgrkhp"
      },
      "outputs": [],
      "source": []
    },
    {
      "cell_type": "code",
      "source": [
        "from PIL import Image\n",
        "import os\n",
        "\n",
        "def preprocess_images(input_folder, output_folder, image_size=(64, 64)):\n",
        "    os.makedirs(output_folder, exist_ok=True)\n",
        "    for filename in os.listdir(input_folder):\n",
        "        img = Image.open(os.path.join(input_folder, filename))\n",
        "        img = img.resize(image_size).convert(\"RGB\")\n",
        "        img.save(os.path.join(output_folder, filename))"
      ],
      "metadata": {
        "id": "rGfzfmr3ro-X"
      },
      "execution_count": 5,
      "outputs": []
    },
    {
      "cell_type": "code",
      "source": [
        "import tensorflow as tf\n",
        "from tensorflow.keras import layers\n",
        "\n",
        "# Generator\n",
        "def build_generator(latent_dim):\n",
        "    model = tf.keras.Sequential([\n",
        "        layers.Dense(128, activation=\"relu\", input_dim=latent_dim),\n",
        "        layers.Reshape((8, 8, 2)),\n",
        "        layers.Conv2DTranspose(64, (3, 3), strides=(2, 2), activation=\"relu\"),\n",
        "        layers.Conv2DTranspose(3, (3, 3), strides=(2, 2), activation=\"sigmoid\")\n",
        "    ])\n",
        "    return model\n",
        "\n",
        "# Discriminator\n",
        "def build_discriminator(image_shape):\n",
        "    model = tf.keras.Sequential([\n",
        "        layers.Conv2D(64, (3, 3), activation=\"relu\", input_shape=image_shape),\n",
        "        layers.Flatten(),\n",
        "        layers.Dense(1, activation=\"sigmoid\")\n",
        "    ])\n",
        "    return model\n"
      ],
      "metadata": {
        "id": "1wMgS7bdr2iv"
      },
      "execution_count": 6,
      "outputs": []
    },
    {
      "cell_type": "code",
      "source": [
        "import numpy as np\n",
        "\n",
        "def train_gan(generator, discriminator, gan, dataset, latent_dim, epochs, batch_size):\n",
        "    for epoch in range(epochs):\n",
        "        # Train Discriminator\n",
        "        real_images = dataset[np.random.randint(0, dataset.shape[0], batch_size)]\n",
        "        fake_images = generator.predict(np.random.normal(size=(batch_size, latent_dim)))\n",
        "        labels_real = np.ones((batch_size, 1))\n",
        "        labels_fake = np.zeros((batch_size, 1))\n",
        "        discriminator.train_on_batch(real_images, labels_real)\n",
        "        discriminator.train_on_batch(fake_images, labels_fake)\n",
        "\n",
        "        # Train Generator\n",
        "        noise = np.random.normal(size=(batch_size, latent_dim))\n",
        "        gan.train_on_batch(noise, labels_real)\n",
        "\n",
        "        if epoch % 100 == 0:\n",
        "            print(f\"Epoch {epoch}: Saved a generated image.\")\n",
        "            save_generated_image(generator, latent_dim)\n"
      ],
      "metadata": {
        "id": "Yp13F2Qkr45B"
      },
      "execution_count": 7,
      "outputs": []
    },
    {
      "cell_type": "code",
      "source": [
        "import matplotlib.pyplot as plt\n",
        "\n",
        "def save_generated_image(generator, latent_dim, filename=\"generated_art.png\"):\n",
        "    noise = np.random.normal(size=(1, latent_dim))\n",
        "    generated_image = generator.predict(noise)[0]\n",
        "    plt.imshow(generated_image)\n",
        "    plt.axis('off')\n",
        "    plt.savefig(filename)\n"
      ],
      "metadata": {
        "id": "mmVnamMZr7ms"
      },
      "execution_count": 8,
      "outputs": []
    },
    {
      "cell_type": "code",
      "source": [],
      "metadata": {
        "id": "KZWJMGGstqPG"
      },
      "execution_count": null,
      "outputs": []
    }
  ]
}